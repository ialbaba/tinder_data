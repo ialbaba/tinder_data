{
 "cells": [
  {
   "cell_type": "markdown",
   "metadata": {},
   "source": [
    "## Data Analysis on Tinder Data"
   ]
  },
  {
   "cell_type": "code",
   "execution_count": 1,
   "metadata": {},
   "outputs": [],
   "source": [
    "import json\n",
    "import matplotlib.pyplot as plt\n",
    "from matplotlib.dates import date2num"
   ]
  },
  {
   "cell_type": "code",
   "execution_count": 2,
   "metadata": {},
   "outputs": [],
   "source": [
    "# Opening JSON file \n",
    "f = open('data.json',)\n",
    "data = json.load(f) "
   ]
  },
  {
   "cell_type": "code",
   "execution_count": 3,
   "metadata": {},
   "outputs": [],
   "source": [
    "usage = data['Usage']\n",
    "usage['swipes_passes']\n",
    "likes = 0\n",
    "passes = 0\n",
    "matches = 0\n",
    "for i in usage['swipes_likes']:\n",
    "    likes += usage['swipes_likes'][i]\n",
    "    passes += usage['swipes_passes'][i]\n",
    "    matches += usage['matches'][i]"
   ]
  },
  {
   "cell_type": "markdown",
   "metadata": {},
   "source": [
    "### Total Output:"
   ]
  },
  {
   "cell_type": "code",
   "execution_count": 4,
   "metadata": {},
   "outputs": [
    {
     "name": "stdout",
     "output_type": "stream",
     "text": [
      "Likelihood of matching: 8.223%\n",
      "Likelihood of swiping right: 25.113%\n"
     ]
    }
   ],
   "source": [
    "total_match_rate = (matches/likes)\n",
    "print(f'Likelihood of matching: {round((matches/likes)*100, 3)}%')\n",
    "print(f'Likelihood of swiping right: {round((likes/(likes + passes)*100), 3)}%')"
   ]
  },
  {
   "cell_type": "markdown",
   "metadata": {},
   "source": [
    "### Looking at only one month of data"
   ]
  },
  {
   "cell_type": "code",
   "execution_count": 5,
   "metadata": {},
   "outputs": [],
   "source": [
    "import datetime\n",
    "app_opens = {}\n",
    "matches_dict = {}\n",
    "likes_dict = {}\n",
    "swipes_dict = {}\n",
    "likes = 0\n",
    "passes = 0\n",
    "matches = 0\n",
    "messages_sent = 0\n",
    "messages_received = 0\n",
    "\n",
    "for i in data['Usage']['swipes_likes']:\n",
    "    if datetime.datetime.strptime(i, '%Y-%m-%d') >  datetime.datetime(2020, 9, 1, 0, 0):  \n",
    "        likes += usage['swipes_likes'][i]\n",
    "        passes += usage['swipes_passes'][i]\n",
    "        matches += usage['matches'][i]\n",
    "        messages_sent += usage['messages_sent'][i]\n",
    "        messages_received += usage['messages_received'][i]\n",
    "       #app_opens[datetime.datetime.strptime(i, '%Y-%m-%d')] = data['Usage']['swipes_likes'][i]\n",
    "        app_opens[datetime.datetime.strptime(i, '%Y-%m-%d')] = data['Usage']['app_opens'][i]\n",
    "        matches_dict[datetime.datetime.strptime(i, '%Y-%m-%d')] = data['Usage']['matches'][i]\n",
    "        likes_dict[datetime.datetime.strptime(i, '%Y-%m-%d')] = data['Usage']['swipes_likes'][i]\n",
    "        swipes_dict[datetime.datetime.strptime(i, '%Y-%m-%d')] = data['Usage']['swipes_passes'][i] + data['Usage']['swipes_likes'][i]"
   ]
  },
  {
   "cell_type": "code",
   "execution_count": 6,
   "metadata": {},
   "outputs": [
    {
     "name": "stdout",
     "output_type": "stream",
     "text": [
      "Number of likes: 1167\n",
      "Number of passes: 2618\n",
      "Number of matches: 146\n",
      "Number of sent messages: 310\n",
      "Number of received messages: 240\n",
      "Likelihood of matching: 12.511%\n",
      "Likelihood of swiping right: 44.576%\n"
     ]
    }
   ],
   "source": [
    "print(f'Number of likes: {likes}')\n",
    "print(f'Number of passes: {passes}')\n",
    "print(f'Number of matches: {matches}')\n",
    "print(f'Number of sent messages: {messages_sent}')\n",
    "print(f'Number of received messages: {messages_received}')\n",
    "print(f'Likelihood of matching: {round((matches/likes)*100, 3)}%')\n",
    "print(f'Likelihood of swiping right: {round((likes/passes)*100, 3)}%')"
   ]
  },
  {
   "cell_type": "code",
   "execution_count": 7,
   "metadata": {},
   "outputs": [
    {
     "data": {
      "image/png": "[encoded data removed]",
      "text/plain": [
       "<Figure size 1080x360 with 1 Axes>"
      ]
     },
     "metadata": {
      "needs_background": "light"
     },
     "output_type": "display_data"
    }
   ],
   "source": [
    "fig, ax = plt.subplots(figsize=(15, 5))\n",
    "w = 0.26\n",
    "x = date2num(list(matches_dict.keys()))\n",
    "ax.bar(x-w, app_opens.values(), width=w, color='r', align='center', label = 'Usage', alpha = 0.4)\n",
    "ax.bar(x, likes_dict.values(), width=w, color='g', align='center', label = 'Swipes', alpha = 0.4)\n",
    "ax.bar(x+w, matches_dict.values(), width=w, color='b', align='center', label = 'Matches', alpha = 0.4)\n",
    "ax.xaxis_date()\n",
    "ax.autoscale(tight=False)\n",
    "plt.title('Usage x Mactches')\n",
    "ax.legend()\n",
    "plt.show()"
   ]
  },
  {
   "cell_type": "code",
   "execution_count": 8,
   "metadata": {},
   "outputs": [],
   "source": [
    "ratio = []\n",
    "ratio2 = []\n",
    "for i in range (len(likes_dict.values())):\n",
    "    if list(likes_dict.values())[i] != 0:\n",
    "        ratio.append(list(matches_dict.values())[i]/list(likes_dict.values())[i])\n",
    "        ratio2.append(list(likes_dict.values())[i]/list(swipes_dict.values())[i])\n",
    "    else:\n",
    "        ratio.append(0)\n",
    "        ratio2.append(0)"
   ]
  },
  {
   "cell_type": "code",
   "execution_count": 9,
   "metadata": {},
   "outputs": [
    {
     "data": {
      "image/png": "[encoded data removed]",
      "text/plain": [
       "<Figure size 576x216 with 1 Axes>"
      ]
     },
     "metadata": {
      "needs_background": "light"
     },
     "output_type": "display_data"
    }
   ],
   "source": [
    "fig, ax = plt.subplots(figsize=(8, 3))\n",
    "w = 0.40\n",
    "x = date2num(list(matches_dict.keys()))\n",
    "#ax.bar(x-w, app_opens.values(), width=w, color='b', align='center', label = 'Usage', alpha = 0.8)\n",
    "ax.bar(x, ratio, color='g', width = w, align='center', label = 'Match Ratio', alpha = 0.7)\n",
    "ax.bar(x+w, ratio2, color='g', width = w, align='center', label = 'Swipe Ratio', alpha = 0.35)\n",
    "ax.xaxis_date()\n",
    "ax.autoscale(tight=False)\n",
    "plt.title('Matches/Swipes')\n",
    "plt.xticks(rotation='vertical')\n",
    "ax.legend()\n",
    "plt.show()"
   ]
  },
  {
   "cell_type": "code",
   "execution_count": 10,
   "metadata": {},
   "outputs": [
    {
     "name": "stdout",
     "output_type": "stream",
     "text": [
      "Profiles: 3785\n",
      "Swiped Right: 1167\n",
      "Matches 146\n",
      "Messages sent: 62\n",
      "Replies: 39\n",
      "Conversations moved off tinder: 9\n",
      "Real-Life Experience: 1\n"
     ]
    }
   ],
   "source": [
    "print(f'Profiles: {sum(list(swipes_dict.values()))}')\n",
    "print(f'Swiped Right: {likes}')\n",
    "print(f'Matches {matches}')\n",
    "print('Messages sent: 62')\n",
    "print('Replies: 39')\n",
    "print('Conversations moved off tinder: 9')\n",
    "print('Real-Life Experience: 1')"
   ]
  },
  {
   "cell_type": "code",
   "execution_count": 11,
   "metadata": {},
   "outputs": [],
   "source": [
    "def show_values_on_bars(axs):\n",
    "    def _show_on_single_plot(ax):        \n",
    "        for p in ax.patches:\n",
    "            _x = p.get_x() + p.get_width() / 2\n",
    "            _y = p.get_y() + p.get_height()\n",
    "            value = '{:.2f}'.format(p.get_height())\n",
    "            ax.text(_x, _y, value, ha=\"center\") \n",
    "\n",
    "    if isinstance(axs, np.ndarray):\n",
    "        for idx, ax in np.ndenumerate(axs):\n",
    "            _show_on_single_plot(ax)\n",
    "    else:\n",
    "        _show_on_single_plot(axs)\n",
    "def show_values_on_bars2(axs):\n",
    "    def _show_on_single_plot(ax):        \n",
    "        for p in ax.patches:\n",
    "            _x = p.get_x() + p.get_width() / 2\n",
    "            _y = p.get_y() + p.get_height()\n",
    "            value = '{:.2f}'.format(p.get_height())\n",
    "            value = f'{value}%'\n",
    "            ax.text(_x, _y, value, ha=\"center\") \n",
    "\n",
    "    if isinstance(axs, np.ndarray):\n",
    "        for idx, ax in np.ndenumerate(axs):\n",
    "            _show_on_single_plot(ax)\n",
    "    else:\n",
    "        _show_on_single_plot(axs)"
   ]
  },
  {
   "cell_type": "code",
   "execution_count": 12,
   "metadata": {},
   "outputs": [
    {
     "data": {
      "image/png": "[encoded data removed]",
      "text/plain": [
       "<Figure size 720x360 with 1 Axes>"
      ]
     },
     "metadata": {
      "needs_background": "light"
     },
     "output_type": "display_data"
    }
   ],
   "source": [
    "import seaborn as sns\n",
    "import numpy as np\n",
    "\n",
    "\n",
    "# Set up the matplotlib figure\n",
    "f, ax1 = plt.subplots(1, 1, figsize=(10, 5), sharex=True)\n",
    "# Generate some sequential data\n",
    "x = np.array(['Profiles','Swipes','Matches','Sent Message','Replied','Moved Off Tinder', 'Date'])\n",
    "y1 = np.array([3785, 1167, 146, 62, 39, 9, 1])\n",
    "sns.barplot(x=x, y=y1, palette=\"rocket\", ax=ax1)\n",
    "ax1.axhline(0, color=\"k\", clip_on=False)\n",
    "plt.title('1 Month Data/Outcomes')\n",
    "\n",
    "show_values_on_bars(ax1)"
   ]
  },
  {
   "cell_type": "code",
   "execution_count": 13,
   "metadata": {},
   "outputs": [
    {
     "data": {
      "image/png": "[encoded data removed]",
      "text/plain": [
       "<Figure size 720x360 with 1 Axes>"
      ]
     },
     "metadata": {
      "needs_background": "light"
     },
     "output_type": "display_data"
    }
   ],
   "source": [
    "# Set up the matplotlib figure\n",
    "f, ax1 = plt.subplots(1, 1, figsize=(10, 5), sharex=True)\n",
    "# Generate some sequential data\n",
    "x = np.array(['Profiles','Swipes','Matches','Sent Message','Replied','Moved Off Tinder', 'Date'])\n",
    "vals = [i*100 for i in [3785/3785, 1167/3785, 146/3785, 62/3785, 39/3785, 9/3785, 1/3785]]\n",
    "y1 = np.array(vals)\n",
    "sns.barplot(x=x, y=y1, palette=\"rocket\", ax=ax1)\n",
    "ax1.axhline(0, color=\"k\", clip_on=False)\n",
    "plt.title('1 Month Data/Outcomes')\n",
    "\n",
    "show_values_on_bars2(ax1)"
   ]
  },
  {
   "cell_type": "code",
   "execution_count": 14,
   "metadata": {},
   "outputs": [],
   "source": [
    "stats_vals = []\n",
    "vals = [3785, 1167, 146, 62, 39, 9, 1]\n",
    "for i in range (len(vals)):\n",
    "    if i == 0:\n",
    "        value = (vals[i]/vals[i])*100\n",
    "        stats_vals.append(value)\n",
    "    else:\n",
    "        value = (vals[i]/vals[i-1])*100\n",
    "        stats_vals.append(value)"
   ]
  },
  {
   "cell_type": "code",
   "execution_count": 15,
   "metadata": {},
   "outputs": [
    {
     "data": {
      "image/png": "[encoded data removed]",
      "text/plain": [
       "<Figure size 720x360 with 1 Axes>"
      ]
     },
     "metadata": {
      "needs_background": "light"
     },
     "output_type": "display_data"
    }
   ],
   "source": [
    "# Set up the matplotlib figure\n",
    "f, ax1 = plt.subplots(1, 1, figsize=(10, 5), sharex=True)\n",
    "# Generate some sequential data\n",
    "x = np.array(['Profiles','Swipes','Matches','Sent Message','Replied','Moved Off Tinder', 'Date'])\n",
    "y1 = np.array(stats_vals)\n",
    "sns.barplot(x=x, y=y1, palette=\"rocket\", ax=ax1)\n",
    "ax1.axhline(0, color=\"k\", clip_on=False)\n",
    "plt.title('1 Month Data/Outcomes as Percentages of previous occasion')\n",
    "\n",
    "show_values_on_bars2(ax1)"
   ]
  },
  {
   "cell_type": "markdown",
   "metadata": {},
   "source": [
    "### Looking at another month of data == January"
   ]
  },
  {
   "cell_type": "code",
   "execution_count": 16,
   "metadata": {},
   "outputs": [],
   "source": [
    "jan_likes = 0\n",
    "jan_passes = 0\n",
    "jan_matches = 0\n",
    "jan_messages_sent = 0\n",
    "jan_messages_received = 0\n",
    "\n",
    "for i in data['Usage']['swipes_likes']:\n",
    "    if datetime.datetime.strptime(i, '%Y-%m-%d').month == 1  :  \n",
    "        jan_likes += usage['swipes_likes'][i]\n",
    "        jan_passes += usage['swipes_passes'][i]\n",
    "        jan_matches += usage['matches'][i]\n",
    "        jan_messages_sent += usage['messages_sent'][i]\n",
    "        jan_messages_received += usage['messages_received'][i]"
   ]
  },
  {
   "cell_type": "code",
   "execution_count": 17,
   "metadata": {
    "scrolled": true
   },
   "outputs": [
    {
     "name": "stdout",
     "output_type": "stream",
     "text": [
      "Number of likes: 730\n",
      "Number of passes: 2079\n",
      "Number of matches: 59\n",
      "Number of sent messages: 32\n",
      "Number of received messages: 30\n",
      "Likelihood of matching: 8.082%\n",
      "Likelihood of swiping right: 35.113%\n"
     ]
    }
   ],
   "source": [
    "print(f'Number of likes: {jan_likes}')\n",
    "print(f'Number of passes: {jan_passes}')\n",
    "print(f'Number of matches: {jan_matches}')\n",
    "print(f'Number of sent messages: {jan_messages_sent}')\n",
    "print(f'Number of received messages: {jan_messages_received}')\n",
    "print(f'Likelihood of matching: {round((jan_matches/jan_likes)*100, 3)}%')\n",
    "print(f'Likelihood of swiping right: {round((jan_likes/jan_passes)*100, 3)}%')"
   ]
  },
  {
   "cell_type": "markdown",
   "metadata": {},
   "source": [
    "### Does month matter?"
   ]
  },
  {
   "cell_type": "code",
   "execution_count": 18,
   "metadata": {},
   "outputs": [],
   "source": [
    "jan_match_rate = jan_matches/jan_likes\n",
    "sep_match_rate = matches/likes"
   ]
  },
  {
   "cell_type": "code",
   "execution_count": 19,
   "metadata": {},
   "outputs": [
    {
     "name": "stdout",
     "output_type": "stream",
     "text": [
      "0.08082191780821918\n",
      "0.12510711225364182\n",
      "0.08222698072805139\n"
     ]
    }
   ],
   "source": [
    "print(jan_match_rate)\n",
    "print(sep_match_rate)\n",
    "print(total_match_rate)"
   ]
  },
  {
   "cell_type": "code",
   "execution_count": 20,
   "metadata": {},
   "outputs": [
    {
     "data": {
      "text/plain": [
       "0.10806536636794939"
      ]
     },
     "execution_count": 20,
     "metadata": {},
     "output_type": "execute_result"
    }
   ],
   "source": [
    "pooled_match_rate = (jan_matches+matches)/(likes+jan_likes)\n",
    "pooled_match_rate"
   ]
  },
  {
   "cell_type": "code",
   "execution_count": 21,
   "metadata": {},
   "outputs": [
    {
     "data": {
      "text/plain": [
       "0.04428519444542264"
      ]
     },
     "execution_count": 21,
     "metadata": {},
     "output_type": "execute_result"
    }
   ],
   "source": [
    "jan_group = np.random.binomial(jan_likes, pooled_match_rate, 20000)/jan_likes\n",
    "sep_group = np.random.binomial(likes, pooled_match_rate, 20000)/likes\n",
    "diff_sim = sep_group - jan_group\n",
    "diff_observed = sep_match_rate - jan_match_rate\n",
    "diff_observed"
   ]
  },
  {
   "cell_type": "code",
   "execution_count": 22,
   "metadata": {},
   "outputs": [
    {
     "name": "stdout",
     "output_type": "stream",
     "text": [
      "The probability of observing a difference of 4.43% is 0.13%\n"
     ]
    },
    {
     "data": {
      "image/png": "[encoded data removed]",
      "text/plain": [
       "<Figure size 432x288 with 1 Axes>"
      ]
     },
     "metadata": {
      "needs_background": "light"
     },
     "output_type": "display_data"
    }
   ],
   "source": [
    "n, bins, patches = plt.hist(x=diff_sim, bins='auto', alpha = 0.5)\n",
    "plt.grid(axis='y')\n",
    "maxfreq = n.max()\n",
    "plt.ylim(ymax=np.ceil(maxfreq/10) * 10 if maxfreq % 10 else maxfreq + 10)\n",
    "plt.axvline(x=diff_observed, c='blue')\n",
    "empirical_p_value = len(diff_sim[diff_sim>=diff_observed])/10000\n",
    "print(f'The probability of observing a difference of {round(diff_observed*100,2)}% is {empirical_p_value*100}%')\n",
    "plt.title('Histogram Distribution of Differences Assuming Null Hypothesis')\n",
    "plt.show()"
   ]
  },
  {
   "cell_type": "markdown",
   "metadata": {},
   "source": [
    "P-Value is below 0.05, we reject the null hypothesis. \n",
    "\n",
    "We can not conclude however that the difference between january and september for subject's tinder success is correlated with the time of the year. Confounding variables can exist. We can, however, conclude that whatever change user did with profile or whatever change in enviroment was extremely significant. "
   ]
  },
  {
   "cell_type": "markdown",
   "metadata": {},
   "source": [
    "### Selectivity Analysis"
   ]
  },
  {
   "cell_type": "code",
   "execution_count": 23,
   "metadata": {},
   "outputs": [],
   "source": [
    "y1 = list(data['Usage']['matches'].values())\n",
    "x1 = []\n",
    "for a, b in zip(list(data['Usage']['swipes_likes'].values()),list(data['Usage']['swipes_passes'].values())):\n",
    "    if b == 0:\n",
    "        x1.append(0)\n",
    "    else:\n",
    "        ratio = a / (a+b)\n",
    "        x1.append(ratio)"
   ]
  },
  {
   "cell_type": "code",
   "execution_count": 24,
   "metadata": {},
   "outputs": [
    {
     "data": {
      "image/png": "[encoded data removed]",
      "text/plain": [
       "<Figure size 432x288 with 1 Axes>"
      ]
     },
     "metadata": {
      "needs_background": "light"
     },
     "output_type": "display_data"
    }
   ],
   "source": [
    "plt.scatter(x1,y1, alpha = 0.6)\n",
    "plt.title('Selectivity / # of Matches. Note: 1 is least Selective')\n",
    "plt.xlabel('Selectivity Ratio')\n",
    "plt.ylabel('# of Matches')\n",
    "plt.show()"
   ]
  },
  {
   "cell_type": "code",
   "execution_count": 25,
   "metadata": {},
   "outputs": [],
   "source": [
    "import scipy.stats as stats"
   ]
  },
  {
   "cell_type": "code",
   "execution_count": 26,
   "metadata": {},
   "outputs": [
    {
     "name": "stdout",
     "output_type": "stream",
     "text": [
      "Correlation: 0.23503888248587204\n",
      "P-Value: 0.0037889553417697034\n"
     ]
    }
   ],
   "source": [
    "correlation, p_value = stats.pearsonr(x1, y1)\n",
    "print(f'Correlation: {correlation}')\n",
    "print(f'P-Value: {p_value}')"
   ]
  },
  {
   "cell_type": "markdown",
   "metadata": {},
   "source": [
    "Conclusion: No correlation there"
   ]
  },
  {
   "cell_type": "code",
   "execution_count": null,
   "metadata": {},
   "outputs": [],
   "source": []
  }
 ],
 "metadata": {
  "kernelspec": {
   "display_name": "Python 3",
   "language": "python",
   "name": "python3"
  },
  "language_info": {
   "codemirror_mode": {
    "name": "ipython",
    "version": 3
   },
   "file_extension": ".py",
   "mimetype": "text/x-python",
   "name": "python",
   "nbconvert_exporter": "python",
   "pygments_lexer": "ipython3",
   "version": "3.7.6"
  }
 },
 "nbformat": 4,
 "nbformat_minor": 4
}
